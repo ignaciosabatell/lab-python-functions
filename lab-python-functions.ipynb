{
 "cells": [
  {
   "cell_type": "markdown",
   "id": "25d7736c-ba17-4aff-b6bb-66eba20fbf4e",
   "metadata": {},
   "source": [
    "# Lab | Functions"
   ]
  },
  {
   "cell_type": "markdown",
   "id": "0c581062-8967-4d93-b06e-62833222f930",
   "metadata": {
    "tags": []
   },
   "source": [
    "## Exercise: Managing Customer Orders with Functions\n",
    "\n",
    "In the previous exercise, you improved the code for managing customer orders by using loops and flow control. Now, let's take it a step further and refactor the code by introducing functions.\n",
    "\n",
    "Follow the steps below to complete the exercise:\n",
    "\n",
    "1. Define a function named `initialize_inventory` that takes `products` as a parameter. Inside the function, implement the code for initializing the inventory dictionary using a loop and user input.\n",
    "\n",
    "2. Define a function named `get_customer_orders` that takes no parameters. Inside the function, implement the code for prompting the user to enter the product names using a loop. The function should return the `customer_orders` set.\n",
    "\n",
    "3. Define a function named `update_inventory` that takes `customer_orders` and `inventory` as parameters. Inside the function, implement the code for updating the inventory dictionary based on the customer orders.\n",
    "\n",
    "4. Define a function named `calculate_order_statistics` that takes `customer_orders` and `products` as parameters. Inside the function, implement the code for calculating the order statistics (total products ordered, and percentage of unique products ordered). The function should return these values.\n",
    "\n",
    "5. Define a function named `print_order_statistics` that takes `order_statistics` as a parameter. Inside the function, implement the code for printing the order statistics.\n",
    "\n",
    "6. Define a function named `print_updated_inventory` that takes `inventory` as a parameter. Inside the function, implement the code for printing the updated inventory.\n",
    "\n",
    "7. Call the functions in the appropriate sequence to execute the program and manage customer orders.\n",
    "\n",
    "Hints for functions:\n",
    "\n",
    "- Consider the input parameters required for each function and their return values.\n",
    "- Utilize function parameters and return values to transfer data between functions.\n",
    "- Test your functions individually to ensure they work correctly.\n",
    "\n",
    "\n"
   ]
  },
  {
   "cell_type": "code",
   "execution_count": 3,
   "id": "afb54afd",
   "metadata": {},
   "outputs": [],
   "source": [
    "products= [\"tshirt\", \"mug\", \"hat\", \"book\", \"keychain\"]\n",
    "\n",
    "def initialize_inventory(products):\n",
    "    inventory={}\n",
    "    for product in products:\n",
    "        quantity=int(input(f\"Ingresa la cantidad disponible de {product}:\"))\n",
    "    return inventory\n",
    "\n"
   ]
  },
  {
   "cell_type": "code",
   "execution_count": 5,
   "id": "7ed18665",
   "metadata": {},
   "outputs": [
    {
     "data": {
      "text/plain": [
       "{}"
      ]
     },
     "execution_count": 5,
     "metadata": {},
     "output_type": "execute_result"
    }
   ],
   "source": [
    "initialize_inventory(products)"
   ]
  },
  {
   "cell_type": "code",
   "execution_count": 6,
   "id": "facfccbc",
   "metadata": {},
   "outputs": [],
   "source": [
    "def get_customer_orders():\n",
    "    customer_orders=set()\n",
    "    while True:\n",
    "        order= input(\"Please, tell us what product you want to order\").lower()\n",
    "        customer_orders.add(order)\n",
    "\n",
    "        answer= input(\"Do you want anything more? (Yes/No)\")\n",
    "        if answer != \"yes\":\n",
    "            print(f\"Thanks, your order is {customer_orders}:\")\n",
    "            break\n",
    "        \n",
    "    return customer_orders"
   ]
  },
  {
   "cell_type": "code",
   "execution_count": 7,
   "id": "04cf1847",
   "metadata": {},
   "outputs": [
    {
     "name": "stdout",
     "output_type": "stream",
     "text": [
      "Thanks, your order is {'tshirt', 'hat', 'mug', 'keychain'}:\n"
     ]
    }
   ],
   "source": [
    "customer_orders= get_customer_orders()"
   ]
  },
  {
   "cell_type": "code",
   "execution_count": 8,
   "id": "179102a0",
   "metadata": {},
   "outputs": [],
   "source": [
    "def update_inventory(customer_orders, inventory):\n",
    "    for item in customer_orders:\n",
    "        if item in inventory:\n",
    "            inventory[item] -= 1\n",
    "    print(f\"Inventario actualizado: {inventory}\")\n",
    "    return inventory"
   ]
  },
  {
   "cell_type": "code",
   "execution_count": 25,
   "id": "bd6f198f",
   "metadata": {},
   "outputs": [],
   "source": [
    "def calculate_order_statistics(customer_orders, products):\n",
    "    total_ordered= len(customer_orders)\n",
    "    percentage_unique = (total_ordered / len(products)) * 100\n",
    "\n",
    "    return total_ordered, percentage_unique\n",
    "\n",
    "    "
   ]
  },
  {
   "cell_type": "code",
   "execution_count": 28,
   "id": "328b68cd",
   "metadata": {},
   "outputs": [],
   "source": [
    "def print_order_statistics(order_statistics):\n",
    "    total_ordered, percentage_unique = order_statistics\n",
    "    print(\"Order Statistics\")\n",
    "    print(f\"Total de productos pedidos: {total_ordered}\")\n",
    "    print(f\"Porcentaje de productos únicos pedidos: {percentage_unique}%\")"
   ]
  },
  {
   "cell_type": "code",
   "execution_count": 31,
   "id": "f194da5f",
   "metadata": {},
   "outputs": [],
   "source": [
    "def print_updated_inventory(inventory):\n",
    "    print(\"Inventario actualizado\")\n",
    "    for product, quantity in inventory.items():\n",
    "        print(f\"{product}: {quantity}\")"
   ]
  },
  {
   "cell_type": "code",
   "execution_count": 12,
   "id": "3f759bf6",
   "metadata": {},
   "outputs": [],
   "source": [
    "inventory = initialize_inventory(products)\n"
   ]
  },
  {
   "cell_type": "code",
   "execution_count": 17,
   "id": "ea5cde88",
   "metadata": {},
   "outputs": [
    {
     "name": "stdout",
     "output_type": "stream",
     "text": [
      "Thanks, your order is {'tshirt', 'keychain', 'mug'}:\n"
     ]
    }
   ],
   "source": [
    "customer_orders = get_customer_orders()"
   ]
  },
  {
   "cell_type": "code",
   "execution_count": 18,
   "id": "7e6a4d54",
   "metadata": {},
   "outputs": [
    {
     "name": "stdout",
     "output_type": "stream",
     "text": [
      "Inventario actualizado: {}\n"
     ]
    }
   ],
   "source": [
    "updated_inventory = update_inventory(customer_orders, inventory)\n"
   ]
  },
  {
   "cell_type": "code",
   "execution_count": 19,
   "id": "a6bd1222",
   "metadata": {},
   "outputs": [],
   "source": [
    "order_statistics = calculate_order_statistics(customer_orders, products)"
   ]
  },
  {
   "cell_type": "code",
   "execution_count": 29,
   "id": "789914b8",
   "metadata": {},
   "outputs": [
    {
     "name": "stdout",
     "output_type": "stream",
     "text": [
      "Order Statistics\n",
      "Total de productos pedidos: 3\n",
      "Porcentaje de productos únicos pedidos: 60.0%\n"
     ]
    }
   ],
   "source": [
    "print_order_statistics(order_statistics)"
   ]
  },
  {
   "cell_type": "code",
   "execution_count": 32,
   "id": "bbb34340",
   "metadata": {},
   "outputs": [
    {
     "name": "stdout",
     "output_type": "stream",
     "text": [
      "Inventario actualizado\n"
     ]
    }
   ],
   "source": [
    "print_updated_inventory(updated_inventory)"
   ]
  },
  {
   "cell_type": "code",
   "execution_count": null,
   "id": "28b0e4b8",
   "metadata": {},
   "outputs": [],
   "source": []
  }
 ],
 "metadata": {
  "kernelspec": {
   "display_name": "base",
   "language": "python",
   "name": "python3"
  },
  "language_info": {
   "codemirror_mode": {
    "name": "ipython",
    "version": 3
   },
   "file_extension": ".py",
   "mimetype": "text/x-python",
   "name": "python",
   "nbconvert_exporter": "python",
   "pygments_lexer": "ipython3",
   "version": "3.13.5"
  }
 },
 "nbformat": 4,
 "nbformat_minor": 5
}
